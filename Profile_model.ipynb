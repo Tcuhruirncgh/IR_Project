{
  "nbformat": 4,
  "nbformat_minor": 0,
  "metadata": {
    "colab": {
      "name": "Profile_model.ipynb",
      "version": "0.3.2",
      "provenance": [],
      "collapsed_sections": []
    },
    "kernelspec": {
      "name": "python3",
      "display_name": "Python 3"
    },
    "accelerator": "GPU"
  },
  "cells": [
    {
      "cell_type": "code",
      "metadata": {
        "id": "UJj8HUtJx4TL",
        "colab_type": "code",
        "outputId": "7dd0a176-30d8-49aa-f98d-32811b47af46",
        "colab": {
          "base_uri": "https://localhost:8080/",
          "height": 34
        }
      },
      "source": [
        "import pandas as pd\n",
        "import numpy as np\n",
        "import sys\n",
        "import re\n",
        "import gc\n",
        "\n",
        "!pip install -U -q PyDrive\n",
        " \n",
        "from pydrive.auth import GoogleAuth\n",
        "from pydrive.drive import GoogleDrive\n",
        "from google.colab import auth\n",
        "from oauth2client.client import GoogleCredentials\n",
        "\n",
        "from google.colab import drive\n",
        "drive.mount('/content/drive')\n",
        "\n",
        "# 1. Authenticate and create the PyDrive client.\n",
        "auth.authenticate_user()\n",
        "gauth = GoogleAuth()\n",
        "gauth.credentials = GoogleCredentials.get_application_default()\n",
        "drive = GoogleDrive(gauth)"
      ],
      "execution_count": 1,
      "outputs": [
        {
          "output_type": "stream",
          "text": [
            "Drive already mounted at /content/drive; to attempt to forcibly remount, call drive.mount(\"/content/drive\", force_remount=True).\n"
          ],
          "name": "stdout"
        }
      ]
    },
    {
      "cell_type": "code",
      "metadata": {
        "id": "cbnS_lrDyYvZ",
        "colab_type": "code",
        "outputId": "a2edbde9-7c80-4c2a-fa3a-fce1b45d3dbd",
        "colab": {
          "base_uri": "https://localhost:8080/",
          "height": 173
        }
      },
      "source": [
        "file_list = drive.ListFile({'q': \"'1IMT5wkteYw7oVhN5exjoHmFtGaWSVu28' in parents and trashed=false\"}).GetList()\n",
        "for file1 in file_list:\n",
        "  print('title: %s, id: %s' % (file1['title'], file1['id']))"
      ],
      "execution_count": 2,
      "outputs": [
        {
          "output_type": "stream",
          "text": [
            "title: IRAhandle_tweets_8.csv, id: 1tncgM0Qk8tVwnlDpcS6ExcKLgXSQFivr\n",
            "title: IRAhandle_tweets_6.csv, id: 1Zj7y_-3A-7Fos-zGCHEKgPBoQvjmysCS\n",
            "title: IRAhandle_tweets_7.csv, id: 1jI5nQyznspfgk6x1RqJeYs184R8rDAH3\n",
            "title: IRAhandle_tweets_9.csv, id: 14fs5-wJUPRJ5_n_KNWOFkXOF_JgQBcvn\n",
            "title: IRAhandle_tweets_5.csv, id: 1zqwycOdInUlWqs6n1cg1O9ahs-LdfDH-\n",
            "title: IRAhandle_tweets_3.csv, id: 1Rk7XNjnBzeCPi2o-TV1pD8qbMFOxrnXH\n",
            "title: IRAhandle_tweets_4.csv, id: 1QSArmXCXdkfWHlcTVqPwnzdAjjkOenF7\n",
            "title: IRAhandle_tweets_2.csv, id: 1bNSGGniOObCfzTZ085FyFVjqNpC5cRnD\n",
            "title: IRAhandle_tweets_1.csv, id: 1TEkomSxdkUuhkpWTvB1YNZFsvEVP_Pwk\n"
          ],
          "name": "stdout"
        }
      ]
    },
    {
      "cell_type": "code",
      "metadata": {
        "id": "yHI2Jn7lyYyI",
        "colab_type": "code",
        "colab": {}
      },
      "source": [
        "trolldf = pd.DataFrame()\n",
        "for file in file_list:\n",
        "    downloaded = drive.CreateFile({'id': file['id']})\n",
        "    downloaded.GetContentFile(file['title'])\n",
        "    df_acc = pd.read_csv(file['title'])\n",
        "    trolldf = trolldf.append(df_acc, ignore_index = True, sort = False)\n",
        "#trolldf.head()"
      ],
      "execution_count": 0,
      "outputs": []
    },
    {
      "cell_type": "code",
      "metadata": {
        "id": "giLV_6JNDlZY",
        "colab_type": "code",
        "colab": {
          "base_uri": "https://localhost:8080/",
          "height": 400
        },
        "outputId": "3063baf4-1185-4c93-a53f-97c4cc86bbe8"
      },
      "source": [
        "trolldf.head()"
      ],
      "execution_count": 4,
      "outputs": [
        {
          "output_type": "execute_result",
          "data": {
            "text/html": [
              "<div>\n",
              "<style scoped>\n",
              "    .dataframe tbody tr th:only-of-type {\n",
              "        vertical-align: middle;\n",
              "    }\n",
              "\n",
              "    .dataframe tbody tr th {\n",
              "        vertical-align: top;\n",
              "    }\n",
              "\n",
              "    .dataframe thead th {\n",
              "        text-align: right;\n",
              "    }\n",
              "</style>\n",
              "<table border=\"1\" class=\"dataframe\">\n",
              "  <thead>\n",
              "    <tr style=\"text-align: right;\">\n",
              "      <th></th>\n",
              "      <th>external_author_id</th>\n",
              "      <th>author</th>\n",
              "      <th>content</th>\n",
              "      <th>region</th>\n",
              "      <th>language</th>\n",
              "      <th>publish_date</th>\n",
              "      <th>harvested_date</th>\n",
              "      <th>following</th>\n",
              "      <th>followers</th>\n",
              "      <th>updates</th>\n",
              "      <th>post_type</th>\n",
              "      <th>account_type</th>\n",
              "      <th>new_june_2018</th>\n",
              "      <th>retweet</th>\n",
              "      <th>account_category</th>\n",
              "    </tr>\n",
              "  </thead>\n",
              "  <tbody>\n",
              "    <tr>\n",
              "      <th>0</th>\n",
              "      <td>1.651693e+09</td>\n",
              "      <td>STAYWOKE88</td>\n",
              "      <td>#Illinois Dairy #Queen Franchisee Loses Store ...</td>\n",
              "      <td>United States</td>\n",
              "      <td>English</td>\n",
              "      <td>1/10/2017 0:43</td>\n",
              "      <td>1/10/2017 0:44</td>\n",
              "      <td>549</td>\n",
              "      <td>465</td>\n",
              "      <td>3574</td>\n",
              "      <td>RETWEET</td>\n",
              "      <td>left</td>\n",
              "      <td>0</td>\n",
              "      <td>1</td>\n",
              "      <td>LeftTroll</td>\n",
              "    </tr>\n",
              "    <tr>\n",
              "      <th>1</th>\n",
              "      <td>1.651693e+09</td>\n",
              "      <td>STAYWOKE88</td>\n",
              "      <td>#NoEthicsNoHearing https://t.co/q8suwAO2sB</td>\n",
              "      <td>United States</td>\n",
              "      <td>English</td>\n",
              "      <td>1/10/2017 0:44</td>\n",
              "      <td>1/10/2017 0:44</td>\n",
              "      <td>549</td>\n",
              "      <td>465</td>\n",
              "      <td>3575</td>\n",
              "      <td>RETWEET</td>\n",
              "      <td>left</td>\n",
              "      <td>0</td>\n",
              "      <td>1</td>\n",
              "      <td>LeftTroll</td>\n",
              "    </tr>\n",
              "    <tr>\n",
              "      <th>2</th>\n",
              "      <td>1.651693e+09</td>\n",
              "      <td>STAYWOKE88</td>\n",
              "      <td>Progressive narratives about what’s driving ma...</td>\n",
              "      <td>United States</td>\n",
              "      <td>English</td>\n",
              "      <td>1/10/2017 12:50</td>\n",
              "      <td>1/10/2017 12:51</td>\n",
              "      <td>549</td>\n",
              "      <td>466</td>\n",
              "      <td>3594</td>\n",
              "      <td>RETWEET</td>\n",
              "      <td>left</td>\n",
              "      <td>0</td>\n",
              "      <td>1</td>\n",
              "      <td>LeftTroll</td>\n",
              "    </tr>\n",
              "    <tr>\n",
              "      <th>3</th>\n",
              "      <td>1.651693e+09</td>\n",
              "      <td>STAYWOKE88</td>\n",
              "      <td>Finally found his twin. Mitch McConnell https:...</td>\n",
              "      <td>United States</td>\n",
              "      <td>English</td>\n",
              "      <td>1/10/2017 12:50</td>\n",
              "      <td>1/10/2017 12:50</td>\n",
              "      <td>549</td>\n",
              "      <td>466</td>\n",
              "      <td>3592</td>\n",
              "      <td>RETWEET</td>\n",
              "      <td>left</td>\n",
              "      <td>0</td>\n",
              "      <td>1</td>\n",
              "      <td>LeftTroll</td>\n",
              "    </tr>\n",
              "    <tr>\n",
              "      <th>4</th>\n",
              "      <td>1.651693e+09</td>\n",
              "      <td>STAYWOKE88</td>\n",
              "      <td>#DonnieDipshit: \"Confirmations r going great\"....</td>\n",
              "      <td>United States</td>\n",
              "      <td>English</td>\n",
              "      <td>1/10/2017 12:50</td>\n",
              "      <td>1/10/2017 12:51</td>\n",
              "      <td>549</td>\n",
              "      <td>466</td>\n",
              "      <td>3593</td>\n",
              "      <td>RETWEET</td>\n",
              "      <td>left</td>\n",
              "      <td>0</td>\n",
              "      <td>1</td>\n",
              "      <td>LeftTroll</td>\n",
              "    </tr>\n",
              "  </tbody>\n",
              "</table>\n",
              "</div>"
            ],
            "text/plain": [
              "   external_author_id      author  \\\n",
              "0        1.651693e+09  STAYWOKE88   \n",
              "1        1.651693e+09  STAYWOKE88   \n",
              "2        1.651693e+09  STAYWOKE88   \n",
              "3        1.651693e+09  STAYWOKE88   \n",
              "4        1.651693e+09  STAYWOKE88   \n",
              "\n",
              "                                             content         region language  \\\n",
              "0  #Illinois Dairy #Queen Franchisee Loses Store ...  United States  English   \n",
              "1         #NoEthicsNoHearing https://t.co/q8suwAO2sB  United States  English   \n",
              "2  Progressive narratives about what’s driving ma...  United States  English   \n",
              "3  Finally found his twin. Mitch McConnell https:...  United States  English   \n",
              "4  #DonnieDipshit: \"Confirmations r going great\"....  United States  English   \n",
              "\n",
              "      publish_date   harvested_date  following  followers  updates post_type  \\\n",
              "0   1/10/2017 0:43   1/10/2017 0:44        549        465     3574   RETWEET   \n",
              "1   1/10/2017 0:44   1/10/2017 0:44        549        465     3575   RETWEET   \n",
              "2  1/10/2017 12:50  1/10/2017 12:51        549        466     3594   RETWEET   \n",
              "3  1/10/2017 12:50  1/10/2017 12:50        549        466     3592   RETWEET   \n",
              "4  1/10/2017 12:50  1/10/2017 12:51        549        466     3593   RETWEET   \n",
              "\n",
              "  account_type  new_june_2018  retweet account_category  \n",
              "0         left              0        1        LeftTroll  \n",
              "1         left              0        1        LeftTroll  \n",
              "2         left              0        1        LeftTroll  \n",
              "3         left              0        1        LeftTroll  \n",
              "4         left              0        1        LeftTroll  "
            ]
          },
          "metadata": {
            "tags": []
          },
          "execution_count": 4
        }
      ]
    },
    {
      "cell_type": "code",
      "metadata": {
        "id": "SsYokM9PHhVJ",
        "colab_type": "code",
        "colab": {
          "base_uri": "https://localhost:8080/",
          "height": 206
        },
        "outputId": "0ee06655-1ec2-449e-ab20-1b47a9cb9fa0"
      },
      "source": [
        "trolldf = trolldf[['author', 'following', 'followers']]\n",
        "trolldf.head()"
      ],
      "execution_count": 10,
      "outputs": [
        {
          "output_type": "execute_result",
          "data": {
            "text/html": [
              "<div>\n",
              "<style scoped>\n",
              "    .dataframe tbody tr th:only-of-type {\n",
              "        vertical-align: middle;\n",
              "    }\n",
              "\n",
              "    .dataframe tbody tr th {\n",
              "        vertical-align: top;\n",
              "    }\n",
              "\n",
              "    .dataframe thead th {\n",
              "        text-align: right;\n",
              "    }\n",
              "</style>\n",
              "<table border=\"1\" class=\"dataframe\">\n",
              "  <thead>\n",
              "    <tr style=\"text-align: right;\">\n",
              "      <th></th>\n",
              "      <th>author</th>\n",
              "      <th>following</th>\n",
              "      <th>followers</th>\n",
              "    </tr>\n",
              "  </thead>\n",
              "  <tbody>\n",
              "    <tr>\n",
              "      <th>0</th>\n",
              "      <td>STAYWOKE88</td>\n",
              "      <td>549</td>\n",
              "      <td>465</td>\n",
              "    </tr>\n",
              "    <tr>\n",
              "      <th>1</th>\n",
              "      <td>STAYWOKE88</td>\n",
              "      <td>549</td>\n",
              "      <td>465</td>\n",
              "    </tr>\n",
              "    <tr>\n",
              "      <th>2</th>\n",
              "      <td>STAYWOKE88</td>\n",
              "      <td>549</td>\n",
              "      <td>466</td>\n",
              "    </tr>\n",
              "    <tr>\n",
              "      <th>3</th>\n",
              "      <td>STAYWOKE88</td>\n",
              "      <td>549</td>\n",
              "      <td>466</td>\n",
              "    </tr>\n",
              "    <tr>\n",
              "      <th>4</th>\n",
              "      <td>STAYWOKE88</td>\n",
              "      <td>549</td>\n",
              "      <td>466</td>\n",
              "    </tr>\n",
              "  </tbody>\n",
              "</table>\n",
              "</div>"
            ],
            "text/plain": [
              "       author  following  followers\n",
              "0  STAYWOKE88        549        465\n",
              "1  STAYWOKE88        549        465\n",
              "2  STAYWOKE88        549        466\n",
              "3  STAYWOKE88        549        466\n",
              "4  STAYWOKE88        549        466"
            ]
          },
          "metadata": {
            "tags": []
          },
          "execution_count": 10
        }
      ]
    },
    {
      "cell_type": "code",
      "metadata": {
        "id": "VJ8kRqEIyY6e",
        "colab_type": "code",
        "outputId": "08182f8d-c2f2-443d-d91e-27ca1617f40e",
        "colab": {
          "base_uri": "https://localhost:8080/",
          "height": 86
        }
      },
      "source": [
        "file_list = drive.ListFile({'q': \"'1sFcNq_jqE8-vdmC1TlXrh2plS8qy84PZ' in parents and trashed=false\"}).GetList()\n",
        "for file1 in file_list:\n",
        "  print('title: %s, id: %s' % (file1['title'], file1['id']))"
      ],
      "execution_count": 5,
      "outputs": [
        {
          "output_type": "stream",
          "text": [
            "title: nov29.csv, id: 12NSIxIbgiQd8N3i49lcK4DeBpaV6hCWc\n",
            "title: nov28.csv, id: 1huayYTurbpgpsVI99IoKVyUBkdKGhz_N\n",
            "title: nov27.csv, id: 1AAAUuIdyq1TjZgO54Njl3s4E4hDzeTAK\n",
            "title: nov30.csv, id: 1cmPemTfEF61B2TWpwO1f8h9WQxIdxKf8\n"
          ],
          "name": "stdout"
        }
      ]
    },
    {
      "cell_type": "code",
      "metadata": {
        "id": "DchyMuFdyY9I",
        "colab_type": "code",
        "colab": {}
      },
      "source": [
        "normaldf = pd.DataFrame()\n",
        "for file in file_list:\n",
        "    downloaded = drive.CreateFile({'id': file['id']})\n",
        "    downloaded.GetContentFile(file['title'])\n",
        "    df_acc = pd.read_csv(file['title'], usecols = ['author_id','following', 'followers'])\n",
        "    normaldf = normaldf.append(df_acc, ignore_index = True, sort = False)\n",
        "#normaldf.head()"
      ],
      "execution_count": 0,
      "outputs": []
    },
    {
      "cell_type": "code",
      "metadata": {
        "id": "V9rcDme2EeZJ",
        "colab_type": "code",
        "colab": {
          "base_uri": "https://localhost:8080/",
          "height": 206
        },
        "outputId": "e774d563-f1ed-40d2-9dc6-422665e9a6f2"
      },
      "source": [
        "normaldf.head()"
      ],
      "execution_count": 7,
      "outputs": [
        {
          "output_type": "execute_result",
          "data": {
            "text/html": [
              "<div>\n",
              "<style scoped>\n",
              "    .dataframe tbody tr th:only-of-type {\n",
              "        vertical-align: middle;\n",
              "    }\n",
              "\n",
              "    .dataframe tbody tr th {\n",
              "        vertical-align: top;\n",
              "    }\n",
              "\n",
              "    .dataframe thead th {\n",
              "        text-align: right;\n",
              "    }\n",
              "</style>\n",
              "<table border=\"1\" class=\"dataframe\">\n",
              "  <thead>\n",
              "    <tr style=\"text-align: right;\">\n",
              "      <th></th>\n",
              "      <th>author_id</th>\n",
              "      <th>following</th>\n",
              "      <th>followers</th>\n",
              "    </tr>\n",
              "  </thead>\n",
              "  <tbody>\n",
              "    <tr>\n",
              "      <th>0</th>\n",
              "      <td>225551004</td>\n",
              "      <td>244</td>\n",
              "      <td>209</td>\n",
              "    </tr>\n",
              "    <tr>\n",
              "      <th>1</th>\n",
              "      <td>184621766</td>\n",
              "      <td>66</td>\n",
              "      <td>143</td>\n",
              "    </tr>\n",
              "    <tr>\n",
              "      <th>2</th>\n",
              "      <td>743166519157227520</td>\n",
              "      <td>134</td>\n",
              "      <td>643</td>\n",
              "    </tr>\n",
              "    <tr>\n",
              "      <th>3</th>\n",
              "      <td>53706363</td>\n",
              "      <td>192</td>\n",
              "      <td>19651</td>\n",
              "    </tr>\n",
              "    <tr>\n",
              "      <th>4</th>\n",
              "      <td>2418453842</td>\n",
              "      <td>306</td>\n",
              "      <td>323</td>\n",
              "    </tr>\n",
              "  </tbody>\n",
              "</table>\n",
              "</div>"
            ],
            "text/plain": [
              "            author_id  following  followers\n",
              "0           225551004        244        209\n",
              "1           184621766         66        143\n",
              "2  743166519157227520        134        643\n",
              "3            53706363        192      19651\n",
              "4          2418453842        306        323"
            ]
          },
          "metadata": {
            "tags": []
          },
          "execution_count": 7
        }
      ]
    },
    {
      "cell_type": "code",
      "metadata": {
        "id": "2jsUog5PyZAA",
        "colab_type": "code",
        "outputId": "34839d5d-5857-4292-caa9-d0cc6917b0f6",
        "colab": {
          "base_uri": "https://localhost:8080/",
          "height": 206
        }
      },
      "source": [
        "trolldf['troll'] = pd.Series([1] * len(trolldf))\n",
        "trolldf.head()"
      ],
      "execution_count": 11,
      "outputs": [
        {
          "output_type": "execute_result",
          "data": {
            "text/html": [
              "<div>\n",
              "<style scoped>\n",
              "    .dataframe tbody tr th:only-of-type {\n",
              "        vertical-align: middle;\n",
              "    }\n",
              "\n",
              "    .dataframe tbody tr th {\n",
              "        vertical-align: top;\n",
              "    }\n",
              "\n",
              "    .dataframe thead th {\n",
              "        text-align: right;\n",
              "    }\n",
              "</style>\n",
              "<table border=\"1\" class=\"dataframe\">\n",
              "  <thead>\n",
              "    <tr style=\"text-align: right;\">\n",
              "      <th></th>\n",
              "      <th>author</th>\n",
              "      <th>following</th>\n",
              "      <th>followers</th>\n",
              "      <th>troll</th>\n",
              "    </tr>\n",
              "  </thead>\n",
              "  <tbody>\n",
              "    <tr>\n",
              "      <th>0</th>\n",
              "      <td>STAYWOKE88</td>\n",
              "      <td>549</td>\n",
              "      <td>465</td>\n",
              "      <td>1</td>\n",
              "    </tr>\n",
              "    <tr>\n",
              "      <th>1</th>\n",
              "      <td>STAYWOKE88</td>\n",
              "      <td>549</td>\n",
              "      <td>465</td>\n",
              "      <td>1</td>\n",
              "    </tr>\n",
              "    <tr>\n",
              "      <th>2</th>\n",
              "      <td>STAYWOKE88</td>\n",
              "      <td>549</td>\n",
              "      <td>466</td>\n",
              "      <td>1</td>\n",
              "    </tr>\n",
              "    <tr>\n",
              "      <th>3</th>\n",
              "      <td>STAYWOKE88</td>\n",
              "      <td>549</td>\n",
              "      <td>466</td>\n",
              "      <td>1</td>\n",
              "    </tr>\n",
              "    <tr>\n",
              "      <th>4</th>\n",
              "      <td>STAYWOKE88</td>\n",
              "      <td>549</td>\n",
              "      <td>466</td>\n",
              "      <td>1</td>\n",
              "    </tr>\n",
              "  </tbody>\n",
              "</table>\n",
              "</div>"
            ],
            "text/plain": [
              "       author  following  followers  troll\n",
              "0  STAYWOKE88        549        465      1\n",
              "1  STAYWOKE88        549        465      1\n",
              "2  STAYWOKE88        549        466      1\n",
              "3  STAYWOKE88        549        466      1\n",
              "4  STAYWOKE88        549        466      1"
            ]
          },
          "metadata": {
            "tags": []
          },
          "execution_count": 11
        }
      ]
    },
    {
      "cell_type": "code",
      "metadata": {
        "id": "dQyJrfMf3ZDH",
        "colab_type": "code",
        "outputId": "978b1e51-ff30-46fc-e110-1648e4b14c0d",
        "colab": {
          "base_uri": "https://localhost:8080/",
          "height": 206
        }
      },
      "source": [
        "normaldf['troll'] = pd.Series([0] * len(normaldf))\n",
        "\n",
        "normaldf.columns = trolldf.columns\n",
        "\n",
        "normaldf.head()"
      ],
      "execution_count": 13,
      "outputs": [
        {
          "output_type": "execute_result",
          "data": {
            "text/html": [
              "<div>\n",
              "<style scoped>\n",
              "    .dataframe tbody tr th:only-of-type {\n",
              "        vertical-align: middle;\n",
              "    }\n",
              "\n",
              "    .dataframe tbody tr th {\n",
              "        vertical-align: top;\n",
              "    }\n",
              "\n",
              "    .dataframe thead th {\n",
              "        text-align: right;\n",
              "    }\n",
              "</style>\n",
              "<table border=\"1\" class=\"dataframe\">\n",
              "  <thead>\n",
              "    <tr style=\"text-align: right;\">\n",
              "      <th></th>\n",
              "      <th>author</th>\n",
              "      <th>following</th>\n",
              "      <th>followers</th>\n",
              "      <th>troll</th>\n",
              "    </tr>\n",
              "  </thead>\n",
              "  <tbody>\n",
              "    <tr>\n",
              "      <th>0</th>\n",
              "      <td>225551004</td>\n",
              "      <td>244</td>\n",
              "      <td>209</td>\n",
              "      <td>0</td>\n",
              "    </tr>\n",
              "    <tr>\n",
              "      <th>1</th>\n",
              "      <td>184621766</td>\n",
              "      <td>66</td>\n",
              "      <td>143</td>\n",
              "      <td>0</td>\n",
              "    </tr>\n",
              "    <tr>\n",
              "      <th>2</th>\n",
              "      <td>743166519157227520</td>\n",
              "      <td>134</td>\n",
              "      <td>643</td>\n",
              "      <td>0</td>\n",
              "    </tr>\n",
              "    <tr>\n",
              "      <th>3</th>\n",
              "      <td>53706363</td>\n",
              "      <td>192</td>\n",
              "      <td>19651</td>\n",
              "      <td>0</td>\n",
              "    </tr>\n",
              "    <tr>\n",
              "      <th>4</th>\n",
              "      <td>2418453842</td>\n",
              "      <td>306</td>\n",
              "      <td>323</td>\n",
              "      <td>0</td>\n",
              "    </tr>\n",
              "  </tbody>\n",
              "</table>\n",
              "</div>"
            ],
            "text/plain": [
              "               author  following  followers  troll\n",
              "0           225551004        244        209      0\n",
              "1           184621766         66        143      0\n",
              "2  743166519157227520        134        643      0\n",
              "3            53706363        192      19651      0\n",
              "4          2418453842        306        323      0"
            ]
          },
          "metadata": {
            "tags": []
          },
          "execution_count": 13
        }
      ]
    },
    {
      "cell_type": "code",
      "metadata": {
        "id": "ZIsXldpM68dm",
        "colab_type": "code",
        "colab": {}
      },
      "source": [
        "per_profile1 = trolldf.groupby(['author'])\n",
        "\n",
        "\n",
        "\n",
        "followers_per_profile = per_profile1['followers'].agg(np.amax)\n",
        "following_per_profile = per_profile1['following'].agg(np.amax)\n",
        "ratio_followers_following = (followers_per_profile + 1) / (following_per_profile + 1) # smoothing\n",
        "\n",
        "\n"
      ],
      "execution_count": 0,
      "outputs": []
    },
    {
      "cell_type": "code",
      "metadata": {
        "id": "xhVLfu9vNvMn",
        "colab_type": "code",
        "colab": {}
      },
      "source": [
        "array2 = [followers_per_profile, following_per_profile, ratio_followers_following]\n",
        "profile_features = ['Followers', 'Following', 'Ratio_Followers_Following']\n",
        "df_profile_based1 = pd.DataFrame(columns = profile_features)\n",
        "feature_columns = zip(profile_features, array2)\n",
        "for feature, column in feature_columns:\n",
        "    df_profile_based1[feature] = column\n",
        "  \n",
        "troll = [1] * len(df_profile_based1)\n",
        "\n",
        "df_profile_based1['troll'] = troll"
      ],
      "execution_count": 0,
      "outputs": []
    },
    {
      "cell_type": "code",
      "metadata": {
        "id": "8aJxKfQvLXCF",
        "colab_type": "code",
        "colab": {}
      },
      "source": [
        "per_profile1 = normaldf.groupby(['author'])\n",
        "\n",
        "\n",
        "\n",
        "followers_per_profile = per_profile1['followers'].agg(np.amax)\n",
        "following_per_profile = per_profile1['following'].agg(np.amax)\n",
        "ratio_followers_following = (followers_per_profile + 1) / (following_per_profile + 1) # smoothing\n",
        "\n",
        "\n",
        "\n"
      ],
      "execution_count": 0,
      "outputs": []
    },
    {
      "cell_type": "code",
      "metadata": {
        "id": "rN3Z74YdN0zo",
        "colab_type": "code",
        "colab": {}
      },
      "source": [
        "array2 = [followers_per_profile, following_per_profile, ratio_followers_following]\n",
        "profile_features = ['Followers', 'Following', 'Ratio_Followers_Following']\n",
        "df_profile_based2 = pd.DataFrame(columns = profile_features)\n",
        "feature_columns = zip(profile_features, array2)\n",
        "for feature, column in feature_columns:\n",
        "    df_profile_based2[feature] = column\n",
        "\n",
        "troll = [0] * len(df_profile_based2)\n",
        "\n",
        "df_profile_based2['troll'] = troll"
      ],
      "execution_count": 0,
      "outputs": []
    },
    {
      "cell_type": "code",
      "metadata": {
        "id": "SKQ1doWbMMio",
        "colab_type": "code",
        "colab": {}
      },
      "source": [
        "df_profile_based = df_profile_based2.append(df_profile_based1)"
      ],
      "execution_count": 0,
      "outputs": []
    },
    {
      "cell_type": "code",
      "metadata": {
        "id": "sYmH_MhsCVyG",
        "colab_type": "code",
        "outputId": "a903bd4a-3d40-4978-b563-2efb53fede4d",
        "colab": {
          "base_uri": "https://localhost:8080/",
          "height": 238
        }
      },
      "source": [
        "df_profile_based.head()"
      ],
      "execution_count": 19,
      "outputs": [
        {
          "output_type": "execute_result",
          "data": {
            "text/html": [
              "<div>\n",
              "<style scoped>\n",
              "    .dataframe tbody tr th:only-of-type {\n",
              "        vertical-align: middle;\n",
              "    }\n",
              "\n",
              "    .dataframe tbody tr th {\n",
              "        vertical-align: top;\n",
              "    }\n",
              "\n",
              "    .dataframe thead th {\n",
              "        text-align: right;\n",
              "    }\n",
              "</style>\n",
              "<table border=\"1\" class=\"dataframe\">\n",
              "  <thead>\n",
              "    <tr style=\"text-align: right;\">\n",
              "      <th></th>\n",
              "      <th>Followers</th>\n",
              "      <th>Following</th>\n",
              "      <th>Ratio_Followers_Following</th>\n",
              "      <th>troll</th>\n",
              "    </tr>\n",
              "    <tr>\n",
              "      <th>author</th>\n",
              "      <th></th>\n",
              "      <th></th>\n",
              "      <th></th>\n",
              "      <th></th>\n",
              "    </tr>\n",
              "  </thead>\n",
              "  <tbody>\n",
              "    <tr>\n",
              "      <th>12</th>\n",
              "      <td>3925173</td>\n",
              "      <td>2270</td>\n",
              "      <td>1728.390137</td>\n",
              "      <td>0</td>\n",
              "    </tr>\n",
              "    <tr>\n",
              "      <th>57</th>\n",
              "      <td>18554</td>\n",
              "      <td>993</td>\n",
              "      <td>18.667002</td>\n",
              "      <td>0</td>\n",
              "    </tr>\n",
              "    <tr>\n",
              "      <th>59</th>\n",
              "      <td>5325</td>\n",
              "      <td>1021</td>\n",
              "      <td>5.211350</td>\n",
              "      <td>0</td>\n",
              "    </tr>\n",
              "    <tr>\n",
              "      <th>221</th>\n",
              "      <td>1450</td>\n",
              "      <td>947</td>\n",
              "      <td>1.530591</td>\n",
              "      <td>0</td>\n",
              "    </tr>\n",
              "    <tr>\n",
              "      <th>291</th>\n",
              "      <td>1173377</td>\n",
              "      <td>369</td>\n",
              "      <td>3171.291892</td>\n",
              "      <td>0</td>\n",
              "    </tr>\n",
              "  </tbody>\n",
              "</table>\n",
              "</div>"
            ],
            "text/plain": [
              "        Followers  Following  Ratio_Followers_Following  troll\n",
              "author                                                        \n",
              "12        3925173       2270                1728.390137      0\n",
              "57          18554        993                  18.667002      0\n",
              "59           5325       1021                   5.211350      0\n",
              "221          1450        947                   1.530591      0\n",
              "291       1173377        369                3171.291892      0"
            ]
          },
          "metadata": {
            "tags": []
          },
          "execution_count": 19
        }
      ]
    },
    {
      "cell_type": "code",
      "metadata": {
        "id": "5DgdV1oMRv0M",
        "colab_type": "code",
        "colab": {}
      },
      "source": [
        "df_profile_based = df_profile_based.dropna()"
      ],
      "execution_count": 0,
      "outputs": []
    },
    {
      "cell_type": "code",
      "metadata": {
        "id": "TiisCCxqFvsW",
        "colab_type": "code",
        "colab": {}
      },
      "source": [
        "from sklearn.model_selection import train_test_split\n",
        "#df_profile_based.columns\n",
        "X = df_profile_based.loc[:, df_profile_based.columns[0:3]]\n",
        "\n",
        "y = df_profile_based.iloc[:, 3]\n",
        "#X.head()\n",
        "#y.head()\n"
      ],
      "execution_count": 0,
      "outputs": []
    },
    {
      "cell_type": "code",
      "metadata": {
        "id": "pQgjDYW-Qq8N",
        "colab_type": "code",
        "colab": {}
      },
      "source": [
        "X_train, X_test, y_train, y_test = train_test_split(X, y)"
      ],
      "execution_count": 0,
      "outputs": []
    },
    {
      "cell_type": "code",
      "metadata": {
        "id": "CcrK15AgQEjL",
        "colab_type": "code",
        "colab": {}
      },
      "source": [
        "from sklearn.linear_model import LogisticRegression\n",
        "Log_clf = LogisticRegression(solver = 'lbfgs').fit(X_train, y_train)"
      ],
      "execution_count": 0,
      "outputs": []
    },
    {
      "cell_type": "code",
      "metadata": {
        "id": "0eUeLaMCAcbt",
        "colab_type": "code",
        "outputId": "08b544ee-2976-4d56-90c0-4f47d4248a9e",
        "colab": {
          "base_uri": "https://localhost:8080/",
          "height": 86
        }
      },
      "source": [
        "from sklearn.metrics import accuracy_score, precision_score, recall_score, f1_score\n",
        "predicted = Log_clf.predict(X_test)\n",
        "print('Accuracy : {:.2f}', format(accuracy_score(y_test, predicted)))\n",
        "print('Precision : {:.2f}', format(precision_score(y_test, predicted)))\n",
        "print('Recall : {:.2f}', format(recall_score(y_test, predicted)))\n",
        "print('f1-score : {:.2f}', format(f1_score(y_test, predicted)))\n"
      ],
      "execution_count": 0,
      "outputs": [
        {
          "output_type": "stream",
          "text": [
            "Accuracy : {:.2f} 0.9994933765710541\n",
            "Precision : {:.2f} 0.0\n",
            "Recall : {:.2f} 0.0\n",
            "f1-score : {:.2f} 0.0\n"
          ],
          "name": "stdout"
        }
      ]
    },
    {
      "cell_type": "code",
      "metadata": {
        "id": "J4FkYmg2Yi-s",
        "colab_type": "code",
        "colab": {}
      },
      "source": [
        "from sklearn.tree import DecisionTreeClassifier\n",
        "Dt_clf = DecisionTreeClassifier().fit(X_train, y_train)"
      ],
      "execution_count": 0,
      "outputs": []
    },
    {
      "cell_type": "code",
      "metadata": {
        "id": "ZkyB08iJZIQz",
        "colab_type": "code",
        "outputId": "28f6829d-fb34-4890-a04b-7a2761951a21",
        "colab": {
          "base_uri": "https://localhost:8080/",
          "height": 86
        }
      },
      "source": [
        "predicted = Dt_clf.predict(X_test)\n",
        "print('Accuracy : {:.2f}', format(accuracy_score(y_test, predicted)))\n",
        "print('Precision : {:.2f}', format(precision_score(y_test, predicted)))\n",
        "print('Recall : {:.2f}', format(recall_score(y_test, predicted)))\n",
        "print('f1-score : {:.2f}', format(f1_score(y_test, predicted)))"
      ],
      "execution_count": 0,
      "outputs": [
        {
          "output_type": "stream",
          "text": [
            "Accuracy : {:.2f} 0.9993940278813042\n",
            "Precision : {:.2f} 0.012690355329949238\n",
            "Recall : {:.2f} 0.006944444444444444\n",
            "f1-score : {:.2f} 0.008976660682226212\n"
          ],
          "name": "stdout"
        }
      ]
    },
    {
      "cell_type": "code",
      "metadata": {
        "id": "zGrYa6Aqas-I",
        "colab_type": "code",
        "colab": {}
      },
      "source": [
        "from sklearn.ensemble import GradientBoostingClassifier\n",
        "GBDT_clf = GradientBoostingClassifier().fit(X_train, y_train)"
      ],
      "execution_count": 0,
      "outputs": []
    },
    {
      "cell_type": "code",
      "metadata": {
        "id": "7JVjDIyMbAhp",
        "colab_type": "code",
        "outputId": "ba6e58e9-fa3b-4ee9-ed36-331e1a9bedfd",
        "colab": {
          "base_uri": "https://localhost:8080/",
          "height": 86
        }
      },
      "source": [
        "predicted = GBDT_clf.predict(X_test)\n",
        "print('Accuracy : {:.2f}', format(accuracy_score(y_test, predicted)))\n",
        "print('Precision : {:.2f}', format(precision_score(y_test, predicted)))\n",
        "print('Recall : {:.2f}', format(recall_score(y_test, predicted)))\n",
        "print('f1-score : {:.2f}', format(f1_score(y_test, predicted)))"
      ],
      "execution_count": 0,
      "outputs": [
        {
          "output_type": "stream",
          "text": [
            "Accuracy : {:.2f} 0.9995905297096493\n",
            "Precision : {:.2f} 0.0\n",
            "Recall : {:.2f} 0.0\n",
            "f1-score : {:.2f} 0.0\n"
          ],
          "name": "stdout"
        }
      ]
    }
  ]
}